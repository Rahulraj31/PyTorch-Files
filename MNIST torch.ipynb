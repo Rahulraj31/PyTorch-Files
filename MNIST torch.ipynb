{
 "cells": [
  {
   "cell_type": "code",
   "execution_count": 2,
   "metadata": {},
   "outputs": [],
   "source": [
    "import torch\n",
    "import torch.nn as nn\n",
    "import torchvision\n",
    "import torchvision.transforms as transforms\n",
    "import matplotlib.pyplot as plt "
   ]
  },
  {
   "cell_type": "code",
   "execution_count": 3,
   "metadata": {},
   "outputs": [],
   "source": [
    "device= torch.device('cuda' if torch.cuda.is_available() else 'cpu')"
   ]
  },
  {
   "cell_type": "code",
   "execution_count": 4,
   "metadata": {},
   "outputs": [],
   "source": [
    "# hyper paramter \n",
    "input_size= 784  #28*28\n",
    "hidden_size=100\n",
    "num_classes=10\n",
    "num_epochs=2\n",
    "batch_size =100\n",
    "learning_rate =0.001"
   ]
  },
  {
   "cell_type": "code",
   "execution_count": 5,
   "metadata": {},
   "outputs": [
    {
     "name": "stderr",
     "output_type": "stream",
     "text": [
      "C:\\Users\\Rahul\\Anaconda3\\lib\\site-packages\\torchvision\\datasets\\mnist.py:498: UserWarning: The given NumPy array is not writeable, and PyTorch does not support non-writeable tensors. This means you can write to the underlying (supposedly non-writeable) NumPy array using the tensor. You may want to copy the array to protect its data or make it writeable before converting it to a tensor. This type of warning will be suppressed for the rest of this program. (Triggered internally at  ..\\torch\\csrc\\utils\\tensor_numpy.cpp:180.)\n",
      "  return torch.from_numpy(parsed.astype(m[2], copy=False)).view(*s)\n"
     ]
    }
   ],
   "source": [
    "#MNIST\n",
    "train_dataset = torchvision.datasets.MNIST(root='./data',train=True,\n",
    "                transform=transforms.ToTensor(), \n",
    "                download=True ) #if not downloaded\n",
    "\n",
    "\n",
    "test_dataset = torchvision.datasets.MNIST(root='./data',train=False,\n",
    "                transform=transforms.ToTensor())"
   ]
  },
  {
   "cell_type": "code",
   "execution_count": 6,
   "metadata": {},
   "outputs": [],
   "source": [
    "train_loader =torch.utils.data.DataLoader(dataset=train_dataset,\n",
    "                                         batch_size=batch_size,\n",
    "                                         shuffle=True)\n",
    "\n",
    "test_loader =torch.utils.data.DataLoader(dataset=test_dataset,\n",
    "                                         batch_size=batch_size)"
   ]
  },
  {
   "cell_type": "code",
   "execution_count": 7,
   "metadata": {},
   "outputs": [
    {
     "name": "stdout",
     "output_type": "stream",
     "text": [
      "torch.Size([100, 1, 28, 28]) torch.Size([100])\n"
     ]
    }
   ],
   "source": [
    "#lets see batch \n",
    "examples =iter(train_loader)\n",
    "samples,labels=examples.next()\n",
    "print(samples.shape,labels.shape)   # (batchsize,color channel,size,size)"
   ]
  },
  {
   "cell_type": "code",
   "execution_count": 9,
   "metadata": {},
   "outputs": [
    {
     "data": {
      "image/png": "[encoded data removed]",
      "text/plain": [
       "<Figure size 432x288 with 6 Axes>"
      ]
     },
     "metadata": {
      "needs_background": "light"
     },
     "output_type": "display_data"
    }
   ],
   "source": [
    "%matplotlib inline\n",
    "\n",
    "for i in range(6):\n",
    "    plt.subplot(2,3,i+1)\n",
    "    plt.imshow(samples[i][0],cmap='gray')\n",
    "plt.show()    "
   ]
  },
  {
   "cell_type": "code",
   "execution_count": 10,
   "metadata": {},
   "outputs": [],
   "source": [
    "class NeuralNet(nn.Module):\n",
    "    def __init__(self,input_size,hidden_size,num_classes):\n",
    "        super(NeuralNet,self).__init__()\n",
    "        self.l1=nn.Linear(input_size,100)\n",
    "        self.relu =nn.ReLU()\n",
    "        self.l2=nn.Linear(100,50)\n",
    "        self.relu =nn.ReLU()\n",
    "        self.l3 =nn.Linear(50,num_classes)\n",
    "        \n",
    "    def forward(self,x):\n",
    "        out=self.l1(x)\n",
    "        out=self.relu(out)\n",
    "        out=self.l2(out)\n",
    "        out=self.relu(out)\n",
    "        out=self.l3(out)\n",
    "        return out"
   ]
  },
  {
   "cell_type": "code",
   "execution_count": 11,
   "metadata": {},
   "outputs": [
    {
     "name": "stdout",
     "output_type": "stream",
     "text": [
      "epoch1/2,step 100/600,loss=0.3504\n",
      "epoch1/2,step 200/600,loss=0.2944\n",
      "epoch1/2,step 300/600,loss=0.3367\n",
      "epoch1/2,step 400/600,loss=0.2275\n",
      "epoch1/2,step 500/600,loss=0.2735\n",
      "epoch1/2,step 600/600,loss=0.1632\n",
      "epoch2/2,step 100/600,loss=0.1314\n",
      "epoch2/2,step 200/600,loss=0.1696\n",
      "epoch2/2,step 300/600,loss=0.1370\n",
      "epoch2/2,step 400/600,loss=0.1778\n",
      "epoch2/2,step 500/600,loss=0.1332\n",
      "epoch2/2,step 600/600,loss=0.1866\n"
     ]
    }
   ],
   "source": [
    "model=NeuralNet(input_size,100,num_classes)\n",
    "\n",
    "# Loss and optimizer \n",
    "\n",
    "criterion = nn.CrossEntropyLoss()\n",
    "optimizer= torch.optim.Adam(model.parameters(),lr=learning_rate)\n",
    "\n",
    "#trainind loop\n",
    "\n",
    "n_total_steps = len(train_loader) # for batch\n",
    "    \n",
    "for epoch in range(num_epochs):\n",
    "    for i,(images,labels) in enumerate(train_loader):\n",
    "        # reshaping images i.e. flattening \n",
    "        images=images.reshape(-1,28*28).to(device)\n",
    "        labels=labels.to(device)  \n",
    "    \n",
    "        # forward pass \n",
    "        outputs=model(images)\n",
    "        loss=criterion(outputs,labels)\n",
    "        \n",
    "        #backward\n",
    "        optimizer.zero_grad()\n",
    "        loss.backward()\n",
    "        optimizer.step()\n",
    "        \n",
    "        if (i+1)%100 ==0:\n",
    "            print(f'epoch{epoch+1}/{num_epochs},step {i+1}/{n_total_steps},loss={loss.item():.4f}')\n",
    "        "
   ]
  },
  {
   "cell_type": "code",
   "execution_count": 12,
   "metadata": {},
   "outputs": [
    {
     "name": "stdout",
     "output_type": "stream",
     "text": [
      "accuracy 95.76\n"
     ]
    }
   ],
   "source": [
    "#test\n",
    "with torch.no_grad():\n",
    "    n_correct=0\n",
    "    n_samples=0\n",
    "    \n",
    "    for images,labels in test_loader:\n",
    "        images=images.reshape(-1,28*28).to(device)\n",
    "        labels=labels.to(device)\\\n",
    "        \n",
    "        outputs=model(images)\n",
    "        \n",
    "        #value,index [class label]\n",
    "        _,pred=torch.max(outputs,1)\n",
    "        n_samples+=labels.shape[0]\n",
    "        n_correct+= (pred==labels).sum().item() #to get data inside tensor doesnt affect ans if not used just prettyfy it\n",
    "        \n",
    "print(\"accuracy\",100* n_correct/n_samples)    "
   ]
  },
  {
   "cell_type": "code",
   "execution_count": 14,
   "metadata": {},
   "outputs": [],
   "source": [
    "class NeuralNet2(nn.Module):\n",
    "    def __init__(self,input_size,num_classes):\n",
    "        super(NeuralNet2,self).__init__()\n",
    "        \n",
    "        self.l1 = nn.Sequential(\n",
    "            nn.Linear(input_size,500),\n",
    "            nn.ReLU(),\n",
    "            nn.Linear(500,400),\n",
    "            nn.ReLU()\n",
    "        )\n",
    "        \n",
    "        \n",
    "        self.l2 = nn.Sequential(\n",
    "            nn.Linear(400,300),\n",
    "            nn.ReLU(),\n",
    "            nn.Linear(300,200),\n",
    "            nn.ReLU()\n",
    "        )\n",
    "        \n",
    "        \n",
    "        \n",
    "        self.l3 = nn.Sequential(\n",
    "            nn.Linear(200,100),\n",
    "            nn.ReLU(),\n",
    "            nn.Linear(100,num_classes),\n",
    "        \n",
    "        )\n",
    "        \n",
    "    def forward(self,x):\n",
    "        out=self.l1(x)\n",
    "        out=self.l2(out)           \n",
    "        out=self.l3(out)\n",
    "        return out"
   ]
  },
  {
   "cell_type": "markdown",
   "metadata": {},
   "source": [
    "## AGAR RELU LAYER MAI NA DAAL KE DIRECT LIKHNA HO\n",
    "\n",
    "import torch.nn.functional as F\n",
    "\n",
    "\n",
    "self.l1 = nn.Sequential(\n",
    "\n",
    "            nn.Linear(input_size,500),\n",
    "            \n",
    "            nn.Linear(500,400)\n",
    "            \n",
    "        )\n",
    "        \n",
    "   \n",
    "def forward(self,x):\n",
    "\n",
    "        out=F.relu(self.l1(x))\n",
    "        \n",
    "        out=F.relu(self.l2(out))    \n",
    "        \n",
    "        out=F.relu(self.l3(out))\n",
    "        \n",
    "        return out"
   ]
  },
  {
   "cell_type": "code",
   "execution_count": 15,
   "metadata": {},
   "outputs": [
    {
     "name": "stdout",
     "output_type": "stream",
     "text": [
      "epoch1/2,step 100/600,loss=0.4295\n",
      "epoch1/2,step 200/600,loss=0.4470\n",
      "epoch1/2,step 300/600,loss=0.0929\n",
      "epoch1/2,step 400/600,loss=0.1349\n",
      "epoch1/2,step 500/600,loss=0.1847\n",
      "epoch1/2,step 600/600,loss=0.1216\n",
      "epoch2/2,step 100/600,loss=0.0822\n",
      "epoch2/2,step 200/600,loss=0.2208\n",
      "epoch2/2,step 300/600,loss=0.0544\n",
      "epoch2/2,step 400/600,loss=0.0627\n",
      "epoch2/2,step 500/600,loss=0.0901\n",
      "epoch2/2,step 600/600,loss=0.0254\n"
     ]
    }
   ],
   "source": [
    "model=NeuralNet2(input_size,num_classes)\n",
    "\n",
    "# Loss and optimizer \n",
    "\n",
    "criterion = nn.CrossEntropyLoss()\n",
    "optimizer= torch.optim.Adam(model.parameters(),lr=learning_rate)\n",
    "\n",
    "#trainind loop\n",
    "\n",
    "n_total_steps = len(train_loader) # for batch\n",
    "    \n",
    "for epoch in range(num_epochs):\n",
    "    for i,(images,labels) in enumerate(train_loader):\n",
    "        # reshaping images i.e. flattening \n",
    "        images=images.reshape(-1,28*28).to(device)\n",
    "        labels=labels.to(device)  \n",
    "    \n",
    "        # forward pass \n",
    "        outputs=model(images)\n",
    "        loss=criterion(outputs,labels)\n",
    "        \n",
    "        #backward\n",
    "        optimizer.zero_grad()\n",
    "        loss.backward()\n",
    "        optimizer.step()\n",
    "        \n",
    "        if (i+1)%100 ==0:\n",
    "            print(f'epoch{epoch+1}/{num_epochs},step {i+1}/{n_total_steps},loss={loss.item():.4f}')"
   ]
  },
  {
   "cell_type": "code",
   "execution_count": 16,
   "metadata": {},
   "outputs": [
    {
     "name": "stdout",
     "output_type": "stream",
     "text": [
      "accuracy 97.03\n"
     ]
    }
   ],
   "source": [
    "#test\n",
    "with torch.no_grad():\n",
    "    n_correct=0\n",
    "    n_samples=0\n",
    "    \n",
    "    for images,labels in test_loader:\n",
    "        images=images.reshape(-1,28*28).to(device)\n",
    "        labels=labels.to(device)\\\n",
    "        \n",
    "        outputs=model(images)\n",
    "        \n",
    "        #value,index [class label]\n",
    "        _,pred=torch.max(outputs,1)\n",
    "        n_samples+=labels.shape[0]\n",
    "        n_correct+= (pred==labels).sum().item() #to get data inside tensor doesnt affect ans if not used just prettyfy it\n",
    "        \n",
    "print(\"accuracy\",100* n_correct/n_samples)  "
   ]
  },
  {
   "cell_type": "markdown",
   "metadata": {},
   "source": []
  },
  {
   "cell_type": "markdown",
   "metadata": {},
   "source": [
    "\n",
    "# -------------------------------------\n",
    "class CNN_Network(nn.Module):\n",
    "    def __init__(self):\n",
    "        super(CNN_Network, self).__init__()\n",
    "\n",
    "        self.layer1 = nn.Sequential(\n",
    "            nn.Conv2d(3, 16, stride=1, kernel_size=3, padding=1),\n",
    "            nn.BatchNorm2d(16),\n",
    "            nn.ReLU(inplace=True)\n",
    "\n",
    "\n",
    "        )\n",
    "        self.layer2 = nn.Sequential(\n",
    "            nn.Conv2d(16, 32, stride=1, kernel_size=3, padding=1),\n",
    "            nn.BatchNorm2d(32),\n",
    "            nn.ReLU(inplace=True),\n",
    "            nn.MaxPool2d(stride=2, kernel_size=2),  # 30 80\n",
    "        )\n",
    "        self.layer3 = nn.Sequential(\n",
    "            nn.Conv2d(32, 64, stride=1, kernel_size=3, padding=1),\n",
    "            nn.BatchNorm2d(64),\n",
    "            nn.ReLU(inplace=True),\n",
    "            nn.Conv2d(64, 128, kernel_size=3, stride=1, padding=1),\n",
    "            nn.BatchNorm2d(128),\n",
    "            nn.ReLU(inplace=True),\n",
    "            nn.MaxPool2d(kernel_size=2, stride=2),   # 15 40\n",
    "        )\n",
    "\n",
    "        self.fc = nn.Sequential(\n",
    "            nn.Linear(256 * 15 * 40, 2048),\n",
    "            nn.ReLU(inplace=True),\n",
    "            nn.Linear(2048, 1024),\n",
    "            nn.ReLU(inplace=True),\n",
    "            nn.Linear(1024, 40)\n",
    "        )\n",
    "\n",
    "    def forward(self, x):\n",
    "        x = self.layer1(x)\n",
    "        x = self.layer2(x)\n",
    "        x = self.layer3(x)\n",
    "\n",
    "        x = x.view(x.size(0), -1)\n",
    "        x = self.fc(x)\n",
    "        x = F.softmax(x, dim=-1)\n",
    "        return x\n",
    "\n",
    "\n",
    "model = CNN_Network()\n",
    "\n",
    "# -------------------------------------"
   ]
  },
  {
   "cell_type": "code",
   "execution_count": null,
   "metadata": {},
   "outputs": [],
   "source": []
  }
 ],
 "metadata": {
  "kernelspec": {
   "display_name": "Python 3",
   "language": "python",
   "name": "python3"
  },
  "language_info": {
   "codemirror_mode": {
    "name": "ipython",
    "version": 3
   },
   "file_extension": ".py",
   "mimetype": "text/x-python",
   "name": "python",
   "nbconvert_exporter": "python",
   "pygments_lexer": "ipython3",
   "version": "3.7.4"
  }
 },
 "nbformat": 4,
 "nbformat_minor": 4
}
